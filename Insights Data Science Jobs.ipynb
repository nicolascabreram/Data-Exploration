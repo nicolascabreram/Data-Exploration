{
 "cells": [
  {
   "cell_type": "markdown",
   "id": "96aa7ee2",
   "metadata": {},
   "source": [
    "Database From: https://www.kaggle.com/datasets/nikhilbhathi/data-scientist-salary-us-glassdoor \n",
    "\n",
    "## 100+ Insights Data Science Jobs EDA\n",
    "\n",
    "This dataset was made by scrapping the job postings related to the position of 'Data Scientist' from www.glassdoor.com in USA, using selenium to scrap the data.\n",
    "\n",
    "In this job I tried to solve the following questions:\n",
    "\n",
    "\n",
    " Exploring the database\n",
    "1. States with Most Number of Jobs\n",
    "2. Average Minimal and Maximal Salaries in Different States\n",
    "3. Average Salary in Different States\n",
    "4. Top 5 Industries with Maximum Number of Data Science Related Job Postings.\n",
    "5. Companies with Maximum Number of Job Openings\n"
   ]
  },
  {
   "cell_type": "markdown",
   "id": "50e4da58",
   "metadata": {},
   "source": [
    "## Exploring the database\n",
    "\n",
    "- The database has 742 entries and 41 columns. \n",
    "- It does not have null values\n",
    "- It is composed by 24 columns with objects and the rest with floats and integers\n"
   ]
  },
  {
   "cell_type": "code",
   "execution_count": 1,
   "id": "30b2bc37",
   "metadata": {},
   "outputs": [
    {
     "name": "stdout",
     "output_type": "stream",
     "text": [
      "<class 'pandas.core.frame.DataFrame'>\n",
      "Int64Index: 742 entries, 0 to 955\n",
      "Data columns (total 41 columns):\n",
      " #   Column              Non-Null Count  Dtype  \n",
      "---  ------              --------------  -----  \n",
      " 0   Job Title           742 non-null    object \n",
      " 1   Salary Estimate     742 non-null    object \n",
      " 2   Job Description     742 non-null    object \n",
      " 3   Rating              742 non-null    float64\n",
      " 4   Company Name        742 non-null    object \n",
      " 5   Location            742 non-null    object \n",
      " 6   Headquarters        742 non-null    object \n",
      " 7   Size                742 non-null    object \n",
      " 8   Founded             742 non-null    int64  \n",
      " 9   Type of ownership   742 non-null    object \n",
      " 10  Industry            742 non-null    object \n",
      " 11  Sector              742 non-null    object \n",
      " 12  Revenue             742 non-null    object \n",
      " 13  Competitors         742 non-null    object \n",
      " 14  Hourly              742 non-null    int64  \n",
      " 15  Employer provided   742 non-null    int64  \n",
      " 16  Lower Salary        742 non-null    int64  \n",
      " 17  Upper Salary        742 non-null    int64  \n",
      " 18  Avg Salary(K)       742 non-null    float64\n",
      " 19  company_txt         742 non-null    object \n",
      " 20  Job Location        742 non-null    object \n",
      " 21  Age                 742 non-null    int64  \n",
      " 22  Python              742 non-null    int64  \n",
      " 23  spark               742 non-null    int64  \n",
      " 24  aws                 742 non-null    int64  \n",
      " 25  excel               742 non-null    int64  \n",
      " 26  sql                 742 non-null    int64  \n",
      " 27  sas                 742 non-null    int64  \n",
      " 28  keras               742 non-null    int64  \n",
      " 29  pytorch             742 non-null    int64  \n",
      " 30  scikit              742 non-null    int64  \n",
      " 31  tensor              742 non-null    int64  \n",
      " 32  hadoop              742 non-null    int64  \n",
      " 33  tableau             742 non-null    int64  \n",
      " 34  bi                  742 non-null    int64  \n",
      " 35  flink               742 non-null    int64  \n",
      " 36  mongo               742 non-null    int64  \n",
      " 37  google_an           742 non-null    int64  \n",
      " 38  job_title_sim       742 non-null    object \n",
      " 39  seniority_by_title  742 non-null    object \n",
      " 40  Degree              742 non-null    object \n",
      "dtypes: float64(2), int64(22), object(17)\n",
      "memory usage: 243.5+ KB\n"
     ]
    },
    {
     "data": {
      "text/plain": [
       "None"
      ]
     },
     "metadata": {},
     "output_type": "display_data"
    }
   ],
   "source": [
    "import pandas as pd\n",
    "import matplotlib.pyplot as plt\n",
    "import seaborn as sns\n",
    "df = pd.read_csv('data_2021.csv',index_col = 'index' )\n",
    "display(df.info())\n"
   ]
  },
  {
   "cell_type": "code",
   "execution_count": 2,
   "id": "75feff9c",
   "metadata": {
    "scrolled": true
   },
   "outputs": [
    {
     "data": {
      "text/html": [
       "<div>\n",
       "<style scoped>\n",
       "    .dataframe tbody tr th:only-of-type {\n",
       "        vertical-align: middle;\n",
       "    }\n",
       "\n",
       "    .dataframe tbody tr th {\n",
       "        vertical-align: top;\n",
       "    }\n",
       "\n",
       "    .dataframe thead th {\n",
       "        text-align: right;\n",
       "    }\n",
       "</style>\n",
       "<table border=\"1\" class=\"dataframe\">\n",
       "  <thead>\n",
       "    <tr style=\"text-align: right;\">\n",
       "      <th></th>\n",
       "      <th>Job Title</th>\n",
       "      <th>Salary Estimate</th>\n",
       "      <th>Job Description</th>\n",
       "      <th>Rating</th>\n",
       "      <th>Company Name</th>\n",
       "      <th>Location</th>\n",
       "      <th>Headquarters</th>\n",
       "      <th>Size</th>\n",
       "      <th>Founded</th>\n",
       "      <th>Type of ownership</th>\n",
       "      <th>...</th>\n",
       "      <th>tensor</th>\n",
       "      <th>hadoop</th>\n",
       "      <th>tableau</th>\n",
       "      <th>bi</th>\n",
       "      <th>flink</th>\n",
       "      <th>mongo</th>\n",
       "      <th>google_an</th>\n",
       "      <th>job_title_sim</th>\n",
       "      <th>seniority_by_title</th>\n",
       "      <th>Degree</th>\n",
       "    </tr>\n",
       "    <tr>\n",
       "      <th>index</th>\n",
       "      <th></th>\n",
       "      <th></th>\n",
       "      <th></th>\n",
       "      <th></th>\n",
       "      <th></th>\n",
       "      <th></th>\n",
       "      <th></th>\n",
       "      <th></th>\n",
       "      <th></th>\n",
       "      <th></th>\n",
       "      <th></th>\n",
       "      <th></th>\n",
       "      <th></th>\n",
       "      <th></th>\n",
       "      <th></th>\n",
       "      <th></th>\n",
       "      <th></th>\n",
       "      <th></th>\n",
       "      <th></th>\n",
       "      <th></th>\n",
       "      <th></th>\n",
       "    </tr>\n",
       "  </thead>\n",
       "  <tbody>\n",
       "    <tr>\n",
       "      <th>0</th>\n",
       "      <td>Data Scientist</td>\n",
       "      <td>$53K-$91K (Glassdoor est.)</td>\n",
       "      <td>Data Scientist\\nLocation: Albuquerque, NM\\nEdu...</td>\n",
       "      <td>3.8</td>\n",
       "      <td>Tecolote Research\\n3.8</td>\n",
       "      <td>Albuquerque, NM</td>\n",
       "      <td>Goleta, CA</td>\n",
       "      <td>501 - 1000</td>\n",
       "      <td>1973</td>\n",
       "      <td>Company - Private</td>\n",
       "      <td>...</td>\n",
       "      <td>0</td>\n",
       "      <td>0</td>\n",
       "      <td>1</td>\n",
       "      <td>1</td>\n",
       "      <td>0</td>\n",
       "      <td>0</td>\n",
       "      <td>0</td>\n",
       "      <td>data scientist</td>\n",
       "      <td>na</td>\n",
       "      <td>M</td>\n",
       "    </tr>\n",
       "    <tr>\n",
       "      <th>1</th>\n",
       "      <td>Healthcare Data Scientist</td>\n",
       "      <td>$63K-$112K (Glassdoor est.)</td>\n",
       "      <td>What You Will Do:\\n\\nI. General Summary\\n\\nThe...</td>\n",
       "      <td>3.4</td>\n",
       "      <td>University of Maryland Medical System\\n3.4</td>\n",
       "      <td>Linthicum, MD</td>\n",
       "      <td>Baltimore, MD</td>\n",
       "      <td>10000+</td>\n",
       "      <td>1984</td>\n",
       "      <td>Other Organization</td>\n",
       "      <td>...</td>\n",
       "      <td>0</td>\n",
       "      <td>0</td>\n",
       "      <td>0</td>\n",
       "      <td>0</td>\n",
       "      <td>0</td>\n",
       "      <td>0</td>\n",
       "      <td>0</td>\n",
       "      <td>data scientist</td>\n",
       "      <td>na</td>\n",
       "      <td>M</td>\n",
       "    </tr>\n",
       "    <tr>\n",
       "      <th>2</th>\n",
       "      <td>Data Scientist</td>\n",
       "      <td>$80K-$90K (Glassdoor est.)</td>\n",
       "      <td>KnowBe4, Inc. is a high growth information sec...</td>\n",
       "      <td>4.8</td>\n",
       "      <td>KnowBe4\\n4.8</td>\n",
       "      <td>Clearwater, FL</td>\n",
       "      <td>Clearwater, FL</td>\n",
       "      <td>501 - 1000</td>\n",
       "      <td>2010</td>\n",
       "      <td>Company - Private</td>\n",
       "      <td>...</td>\n",
       "      <td>0</td>\n",
       "      <td>0</td>\n",
       "      <td>0</td>\n",
       "      <td>0</td>\n",
       "      <td>0</td>\n",
       "      <td>0</td>\n",
       "      <td>0</td>\n",
       "      <td>data scientist</td>\n",
       "      <td>na</td>\n",
       "      <td>M</td>\n",
       "    </tr>\n",
       "    <tr>\n",
       "      <th>3</th>\n",
       "      <td>Data Scientist</td>\n",
       "      <td>$56K-$97K (Glassdoor est.)</td>\n",
       "      <td>*Organization and Job ID**\\nJob ID: 310709\\n\\n...</td>\n",
       "      <td>3.8</td>\n",
       "      <td>PNNL\\n3.8</td>\n",
       "      <td>Richland, WA</td>\n",
       "      <td>Richland, WA</td>\n",
       "      <td>1001 - 5000</td>\n",
       "      <td>1965</td>\n",
       "      <td>Government</td>\n",
       "      <td>...</td>\n",
       "      <td>0</td>\n",
       "      <td>0</td>\n",
       "      <td>0</td>\n",
       "      <td>0</td>\n",
       "      <td>0</td>\n",
       "      <td>0</td>\n",
       "      <td>0</td>\n",
       "      <td>data scientist</td>\n",
       "      <td>na</td>\n",
       "      <td>na</td>\n",
       "    </tr>\n",
       "    <tr>\n",
       "      <th>4</th>\n",
       "      <td>Data Scientist</td>\n",
       "      <td>$86K-$143K (Glassdoor est.)</td>\n",
       "      <td>Data Scientist\\nAffinity Solutions / Marketing...</td>\n",
       "      <td>2.9</td>\n",
       "      <td>Affinity Solutions\\n2.9</td>\n",
       "      <td>New York, NY</td>\n",
       "      <td>New York, NY</td>\n",
       "      <td>51 - 200</td>\n",
       "      <td>1998</td>\n",
       "      <td>Company - Private</td>\n",
       "      <td>...</td>\n",
       "      <td>0</td>\n",
       "      <td>0</td>\n",
       "      <td>0</td>\n",
       "      <td>0</td>\n",
       "      <td>0</td>\n",
       "      <td>0</td>\n",
       "      <td>0</td>\n",
       "      <td>data scientist</td>\n",
       "      <td>na</td>\n",
       "      <td>na</td>\n",
       "    </tr>\n",
       "  </tbody>\n",
       "</table>\n",
       "<p>5 rows × 41 columns</p>\n",
       "</div>"
      ],
      "text/plain": [
       "                       Job Title              Salary Estimate  \\\n",
       "index                                                           \n",
       "0                 Data Scientist   $53K-$91K (Glassdoor est.)   \n",
       "1      Healthcare Data Scientist  $63K-$112K (Glassdoor est.)   \n",
       "2                 Data Scientist   $80K-$90K (Glassdoor est.)   \n",
       "3                 Data Scientist   $56K-$97K (Glassdoor est.)   \n",
       "4                 Data Scientist  $86K-$143K (Glassdoor est.)   \n",
       "\n",
       "                                         Job Description  Rating  \\\n",
       "index                                                              \n",
       "0      Data Scientist\\nLocation: Albuquerque, NM\\nEdu...     3.8   \n",
       "1      What You Will Do:\\n\\nI. General Summary\\n\\nThe...     3.4   \n",
       "2      KnowBe4, Inc. is a high growth information sec...     4.8   \n",
       "3      *Organization and Job ID**\\nJob ID: 310709\\n\\n...     3.8   \n",
       "4      Data Scientist\\nAffinity Solutions / Marketing...     2.9   \n",
       "\n",
       "                                     Company Name         Location  \\\n",
       "index                                                                \n",
       "0                          Tecolote Research\\n3.8  Albuquerque, NM   \n",
       "1      University of Maryland Medical System\\n3.4    Linthicum, MD   \n",
       "2                                    KnowBe4\\n4.8   Clearwater, FL   \n",
       "3                                       PNNL\\n3.8     Richland, WA   \n",
       "4                         Affinity Solutions\\n2.9     New York, NY   \n",
       "\n",
       "         Headquarters          Size  Founded   Type of ownership  ... tensor  \\\n",
       "index                                                             ...          \n",
       "0          Goleta, CA   501 - 1000      1973   Company - Private  ...      0   \n",
       "1       Baltimore, MD       10000+      1984  Other Organization  ...      0   \n",
       "2      Clearwater, FL   501 - 1000      2010   Company - Private  ...      0   \n",
       "3        Richland, WA  1001 - 5000      1965          Government  ...      0   \n",
       "4        New York, NY     51 - 200      1998   Company - Private  ...      0   \n",
       "\n",
       "      hadoop tableau bi  flink  mongo  google_an   job_title_sim  \\\n",
       "index                                                              \n",
       "0          0       1  1      0      0          0  data scientist   \n",
       "1          0       0  0      0      0          0  data scientist   \n",
       "2          0       0  0      0      0          0  data scientist   \n",
       "3          0       0  0      0      0          0  data scientist   \n",
       "4          0       0  0      0      0          0  data scientist   \n",
       "\n",
       "       seniority_by_title Degree  \n",
       "index                             \n",
       "0                      na      M  \n",
       "1                      na      M  \n",
       "2                      na      M  \n",
       "3                      na     na  \n",
       "4                      na     na  \n",
       "\n",
       "[5 rows x 41 columns]"
      ]
     },
     "metadata": {},
     "output_type": "display_data"
    }
   ],
   "source": [
    "#display(df.columns)\n",
    "display(df.head())"
   ]
  },
  {
   "cell_type": "code",
   "execution_count": 3,
   "id": "300c07eb",
   "metadata": {},
   "outputs": [
    {
     "data": {
      "text/html": [
       "<div>\n",
       "<style scoped>\n",
       "    .dataframe tbody tr th:only-of-type {\n",
       "        vertical-align: middle;\n",
       "    }\n",
       "\n",
       "    .dataframe tbody tr th {\n",
       "        vertical-align: top;\n",
       "    }\n",
       "\n",
       "    .dataframe thead th {\n",
       "        text-align: right;\n",
       "    }\n",
       "</style>\n",
       "<table border=\"1\" class=\"dataframe\">\n",
       "  <thead>\n",
       "    <tr style=\"text-align: right;\">\n",
       "      <th></th>\n",
       "      <th>Rating</th>\n",
       "      <th>Founded</th>\n",
       "      <th>Hourly</th>\n",
       "      <th>Employer provided</th>\n",
       "      <th>Lower Salary</th>\n",
       "      <th>Upper Salary</th>\n",
       "      <th>Avg Salary(K)</th>\n",
       "      <th>Age</th>\n",
       "      <th>Python</th>\n",
       "      <th>spark</th>\n",
       "      <th>...</th>\n",
       "      <th>keras</th>\n",
       "      <th>pytorch</th>\n",
       "      <th>scikit</th>\n",
       "      <th>tensor</th>\n",
       "      <th>hadoop</th>\n",
       "      <th>tableau</th>\n",
       "      <th>bi</th>\n",
       "      <th>flink</th>\n",
       "      <th>mongo</th>\n",
       "      <th>google_an</th>\n",
       "    </tr>\n",
       "  </thead>\n",
       "  <tbody>\n",
       "    <tr>\n",
       "      <th>count</th>\n",
       "      <td>742.000000</td>\n",
       "      <td>742.000000</td>\n",
       "      <td>742.000000</td>\n",
       "      <td>742.000000</td>\n",
       "      <td>742.000000</td>\n",
       "      <td>742.000000</td>\n",
       "      <td>742.000000</td>\n",
       "      <td>742.000000</td>\n",
       "      <td>742.000000</td>\n",
       "      <td>742.000000</td>\n",
       "      <td>...</td>\n",
       "      <td>742.000000</td>\n",
       "      <td>742.000000</td>\n",
       "      <td>742.000000</td>\n",
       "      <td>742.000000</td>\n",
       "      <td>742.000000</td>\n",
       "      <td>742.000000</td>\n",
       "      <td>742.000000</td>\n",
       "      <td>742.000000</td>\n",
       "      <td>742.000000</td>\n",
       "      <td>742.000000</td>\n",
       "    </tr>\n",
       "    <tr>\n",
       "      <th>mean</th>\n",
       "      <td>3.618868</td>\n",
       "      <td>1837.154987</td>\n",
       "      <td>0.032345</td>\n",
       "      <td>0.022911</td>\n",
       "      <td>74.754717</td>\n",
       "      <td>128.214286</td>\n",
       "      <td>101.484501</td>\n",
       "      <td>47.524259</td>\n",
       "      <td>0.528302</td>\n",
       "      <td>0.225067</td>\n",
       "      <td>...</td>\n",
       "      <td>0.039084</td>\n",
       "      <td>0.052561</td>\n",
       "      <td>0.072776</td>\n",
       "      <td>0.097035</td>\n",
       "      <td>0.167116</td>\n",
       "      <td>0.199461</td>\n",
       "      <td>0.075472</td>\n",
       "      <td>0.013477</td>\n",
       "      <td>0.049865</td>\n",
       "      <td>0.018868</td>\n",
       "    </tr>\n",
       "    <tr>\n",
       "      <th>std</th>\n",
       "      <td>0.801210</td>\n",
       "      <td>497.183763</td>\n",
       "      <td>0.177034</td>\n",
       "      <td>0.149721</td>\n",
       "      <td>30.945892</td>\n",
       "      <td>45.128650</td>\n",
       "      <td>37.482449</td>\n",
       "      <td>53.839080</td>\n",
       "      <td>0.499535</td>\n",
       "      <td>0.417908</td>\n",
       "      <td>...</td>\n",
       "      <td>0.193925</td>\n",
       "      <td>0.223305</td>\n",
       "      <td>0.259944</td>\n",
       "      <td>0.296205</td>\n",
       "      <td>0.373331</td>\n",
       "      <td>0.399865</td>\n",
       "      <td>0.264329</td>\n",
       "      <td>0.115384</td>\n",
       "      <td>0.217813</td>\n",
       "      <td>0.136150</td>\n",
       "    </tr>\n",
       "    <tr>\n",
       "      <th>min</th>\n",
       "      <td>-1.000000</td>\n",
       "      <td>-1.000000</td>\n",
       "      <td>0.000000</td>\n",
       "      <td>0.000000</td>\n",
       "      <td>15.000000</td>\n",
       "      <td>16.000000</td>\n",
       "      <td>15.500000</td>\n",
       "      <td>-1.000000</td>\n",
       "      <td>0.000000</td>\n",
       "      <td>0.000000</td>\n",
       "      <td>...</td>\n",
       "      <td>0.000000</td>\n",
       "      <td>0.000000</td>\n",
       "      <td>0.000000</td>\n",
       "      <td>0.000000</td>\n",
       "      <td>0.000000</td>\n",
       "      <td>0.000000</td>\n",
       "      <td>0.000000</td>\n",
       "      <td>0.000000</td>\n",
       "      <td>0.000000</td>\n",
       "      <td>0.000000</td>\n",
       "    </tr>\n",
       "    <tr>\n",
       "      <th>25%</th>\n",
       "      <td>3.300000</td>\n",
       "      <td>1939.000000</td>\n",
       "      <td>0.000000</td>\n",
       "      <td>0.000000</td>\n",
       "      <td>52.000000</td>\n",
       "      <td>96.000000</td>\n",
       "      <td>73.500000</td>\n",
       "      <td>12.000000</td>\n",
       "      <td>0.000000</td>\n",
       "      <td>0.000000</td>\n",
       "      <td>...</td>\n",
       "      <td>0.000000</td>\n",
       "      <td>0.000000</td>\n",
       "      <td>0.000000</td>\n",
       "      <td>0.000000</td>\n",
       "      <td>0.000000</td>\n",
       "      <td>0.000000</td>\n",
       "      <td>0.000000</td>\n",
       "      <td>0.000000</td>\n",
       "      <td>0.000000</td>\n",
       "      <td>0.000000</td>\n",
       "    </tr>\n",
       "    <tr>\n",
       "      <th>50%</th>\n",
       "      <td>3.700000</td>\n",
       "      <td>1988.000000</td>\n",
       "      <td>0.000000</td>\n",
       "      <td>0.000000</td>\n",
       "      <td>69.500000</td>\n",
       "      <td>124.000000</td>\n",
       "      <td>97.500000</td>\n",
       "      <td>25.000000</td>\n",
       "      <td>1.000000</td>\n",
       "      <td>0.000000</td>\n",
       "      <td>...</td>\n",
       "      <td>0.000000</td>\n",
       "      <td>0.000000</td>\n",
       "      <td>0.000000</td>\n",
       "      <td>0.000000</td>\n",
       "      <td>0.000000</td>\n",
       "      <td>0.000000</td>\n",
       "      <td>0.000000</td>\n",
       "      <td>0.000000</td>\n",
       "      <td>0.000000</td>\n",
       "      <td>0.000000</td>\n",
       "    </tr>\n",
       "    <tr>\n",
       "      <th>75%</th>\n",
       "      <td>4.000000</td>\n",
       "      <td>2007.000000</td>\n",
       "      <td>0.000000</td>\n",
       "      <td>0.000000</td>\n",
       "      <td>91.000000</td>\n",
       "      <td>155.000000</td>\n",
       "      <td>122.500000</td>\n",
       "      <td>60.000000</td>\n",
       "      <td>1.000000</td>\n",
       "      <td>0.000000</td>\n",
       "      <td>...</td>\n",
       "      <td>0.000000</td>\n",
       "      <td>0.000000</td>\n",
       "      <td>0.000000</td>\n",
       "      <td>0.000000</td>\n",
       "      <td>0.000000</td>\n",
       "      <td>0.000000</td>\n",
       "      <td>0.000000</td>\n",
       "      <td>0.000000</td>\n",
       "      <td>0.000000</td>\n",
       "      <td>0.000000</td>\n",
       "    </tr>\n",
       "    <tr>\n",
       "      <th>max</th>\n",
       "      <td>5.000000</td>\n",
       "      <td>2019.000000</td>\n",
       "      <td>1.000000</td>\n",
       "      <td>1.000000</td>\n",
       "      <td>202.000000</td>\n",
       "      <td>306.000000</td>\n",
       "      <td>254.000000</td>\n",
       "      <td>277.000000</td>\n",
       "      <td>1.000000</td>\n",
       "      <td>1.000000</td>\n",
       "      <td>...</td>\n",
       "      <td>1.000000</td>\n",
       "      <td>1.000000</td>\n",
       "      <td>1.000000</td>\n",
       "      <td>1.000000</td>\n",
       "      <td>1.000000</td>\n",
       "      <td>1.000000</td>\n",
       "      <td>1.000000</td>\n",
       "      <td>1.000000</td>\n",
       "      <td>1.000000</td>\n",
       "      <td>1.000000</td>\n",
       "    </tr>\n",
       "  </tbody>\n",
       "</table>\n",
       "<p>8 rows × 24 columns</p>\n",
       "</div>"
      ],
      "text/plain": [
       "           Rating      Founded      Hourly  Employer provided  Lower Salary  \\\n",
       "count  742.000000   742.000000  742.000000         742.000000    742.000000   \n",
       "mean     3.618868  1837.154987    0.032345           0.022911     74.754717   \n",
       "std      0.801210   497.183763    0.177034           0.149721     30.945892   \n",
       "min     -1.000000    -1.000000    0.000000           0.000000     15.000000   \n",
       "25%      3.300000  1939.000000    0.000000           0.000000     52.000000   \n",
       "50%      3.700000  1988.000000    0.000000           0.000000     69.500000   \n",
       "75%      4.000000  2007.000000    0.000000           0.000000     91.000000   \n",
       "max      5.000000  2019.000000    1.000000           1.000000    202.000000   \n",
       "\n",
       "       Upper Salary  Avg Salary(K)         Age      Python       spark  ...  \\\n",
       "count    742.000000     742.000000  742.000000  742.000000  742.000000  ...   \n",
       "mean     128.214286     101.484501   47.524259    0.528302    0.225067  ...   \n",
       "std       45.128650      37.482449   53.839080    0.499535    0.417908  ...   \n",
       "min       16.000000      15.500000   -1.000000    0.000000    0.000000  ...   \n",
       "25%       96.000000      73.500000   12.000000    0.000000    0.000000  ...   \n",
       "50%      124.000000      97.500000   25.000000    1.000000    0.000000  ...   \n",
       "75%      155.000000     122.500000   60.000000    1.000000    0.000000  ...   \n",
       "max      306.000000     254.000000  277.000000    1.000000    1.000000  ...   \n",
       "\n",
       "            keras     pytorch      scikit      tensor      hadoop     tableau  \\\n",
       "count  742.000000  742.000000  742.000000  742.000000  742.000000  742.000000   \n",
       "mean     0.039084    0.052561    0.072776    0.097035    0.167116    0.199461   \n",
       "std      0.193925    0.223305    0.259944    0.296205    0.373331    0.399865   \n",
       "min      0.000000    0.000000    0.000000    0.000000    0.000000    0.000000   \n",
       "25%      0.000000    0.000000    0.000000    0.000000    0.000000    0.000000   \n",
       "50%      0.000000    0.000000    0.000000    0.000000    0.000000    0.000000   \n",
       "75%      0.000000    0.000000    0.000000    0.000000    0.000000    0.000000   \n",
       "max      1.000000    1.000000    1.000000    1.000000    1.000000    1.000000   \n",
       "\n",
       "               bi       flink       mongo   google_an  \n",
       "count  742.000000  742.000000  742.000000  742.000000  \n",
       "mean     0.075472    0.013477    0.049865    0.018868  \n",
       "std      0.264329    0.115384    0.217813    0.136150  \n",
       "min      0.000000    0.000000    0.000000    0.000000  \n",
       "25%      0.000000    0.000000    0.000000    0.000000  \n",
       "50%      0.000000    0.000000    0.000000    0.000000  \n",
       "75%      0.000000    0.000000    0.000000    0.000000  \n",
       "max      1.000000    1.000000    1.000000    1.000000  \n",
       "\n",
       "[8 rows x 24 columns]"
      ]
     },
     "execution_count": 3,
     "metadata": {},
     "output_type": "execute_result"
    }
   ],
   "source": [
    "df.describe()"
   ]
  },
  {
   "cell_type": "markdown",
   "id": "c4572d73",
   "metadata": {},
   "source": [
    "## 1 States with Most Number of Jobs\n",
    "\n",
    "The 10  states with most number of jobs are CA, MA, NY, VA,IL, MD, PA, TX, WA,NC"
   ]
  },
  {
   "cell_type": "code",
   "execution_count": 4,
   "id": "9f2c8f30",
   "metadata": {},
   "outputs": [
    {
     "name": "stdout",
     "output_type": "stream",
     "text": [
      "38\n",
      "['NM' 'MD' 'FL' 'WA' 'NY' 'TX' 'CA' 'VA' 'MA' 'NJ' 'CO' 'IL' 'KY' 'OR'\n",
      " 'CT' 'MI' 'DC' 'OH' 'AL' 'MO' 'PA' 'GA' 'IN' 'LA' 'WI' 'NC' 'AZ' 'NE'\n",
      " 'MN' 'Los Angeles' 'UT' 'TN' 'DE' 'ID' 'RI' 'IA' 'SC' 'KS']\n"
     ]
    }
   ],
   "source": [
    "df1 = df['Location'].str.split(', ', expand=True)\n",
    "print(df1[1].nunique())\n",
    "print(df1[1].unique())"
   ]
  },
  {
   "cell_type": "code",
   "execution_count": 5,
   "id": "76f84f2b",
   "metadata": {
    "scrolled": true
   },
   "outputs": [
    {
     "data": {
      "text/html": [
       "<div>\n",
       "<style scoped>\n",
       "    .dataframe tbody tr th:only-of-type {\n",
       "        vertical-align: middle;\n",
       "    }\n",
       "\n",
       "    .dataframe tbody tr th {\n",
       "        vertical-align: top;\n",
       "    }\n",
       "\n",
       "    .dataframe thead th {\n",
       "        text-align: right;\n",
       "    }\n",
       "</style>\n",
       "<table border=\"1\" class=\"dataframe\">\n",
       "  <thead>\n",
       "    <tr style=\"text-align: right;\">\n",
       "      <th></th>\n",
       "      <th>City</th>\n",
       "      <th>State</th>\n",
       "      <th>unknown</th>\n",
       "    </tr>\n",
       "    <tr>\n",
       "      <th>index</th>\n",
       "      <th></th>\n",
       "      <th></th>\n",
       "      <th></th>\n",
       "    </tr>\n",
       "  </thead>\n",
       "  <tbody>\n",
       "    <tr>\n",
       "      <th>794</th>\n",
       "      <td>Huntsville</td>\n",
       "      <td>AL</td>\n",
       "      <td>None</td>\n",
       "    </tr>\n",
       "    <tr>\n",
       "      <th>530</th>\n",
       "      <td>Huntsville</td>\n",
       "      <td>AL</td>\n",
       "      <td>None</td>\n",
       "    </tr>\n",
       "    <tr>\n",
       "      <th>97</th>\n",
       "      <td>Huntsville</td>\n",
       "      <td>AL</td>\n",
       "      <td>None</td>\n",
       "    </tr>\n",
       "    <tr>\n",
       "      <th>355</th>\n",
       "      <td>Huntsville</td>\n",
       "      <td>AL</td>\n",
       "      <td>None</td>\n",
       "    </tr>\n",
       "    <tr>\n",
       "      <th>56</th>\n",
       "      <td>Huntsville</td>\n",
       "      <td>AL</td>\n",
       "      <td>None</td>\n",
       "    </tr>\n",
       "    <tr>\n",
       "      <th>...</th>\n",
       "      <td>...</td>\n",
       "      <td>...</td>\n",
       "      <td>...</td>\n",
       "    </tr>\n",
       "    <tr>\n",
       "      <th>300</th>\n",
       "      <td>Madison</td>\n",
       "      <td>WI</td>\n",
       "      <td>None</td>\n",
       "    </tr>\n",
       "    <tr>\n",
       "      <th>448</th>\n",
       "      <td>Milwaukee</td>\n",
       "      <td>WI</td>\n",
       "      <td>None</td>\n",
       "    </tr>\n",
       "    <tr>\n",
       "      <th>909</th>\n",
       "      <td>Milwaukee</td>\n",
       "      <td>WI</td>\n",
       "      <td>None</td>\n",
       "    </tr>\n",
       "    <tr>\n",
       "      <th>671</th>\n",
       "      <td>Milwaukee</td>\n",
       "      <td>WI</td>\n",
       "      <td>None</td>\n",
       "    </tr>\n",
       "    <tr>\n",
       "      <th>248</th>\n",
       "      <td>Milwaukee</td>\n",
       "      <td>WI</td>\n",
       "      <td>None</td>\n",
       "    </tr>\n",
       "  </tbody>\n",
       "</table>\n",
       "<p>742 rows × 3 columns</p>\n",
       "</div>"
      ],
      "text/plain": [
       "             City State unknown\n",
       "index                          \n",
       "794    Huntsville    AL    None\n",
       "530    Huntsville    AL    None\n",
       "97     Huntsville    AL    None\n",
       "355    Huntsville    AL    None\n",
       "56     Huntsville    AL    None\n",
       "...           ...   ...     ...\n",
       "300       Madison    WI    None\n",
       "448     Milwaukee    WI    None\n",
       "909     Milwaukee    WI    None\n",
       "671     Milwaukee    WI    None\n",
       "248     Milwaukee    WI    None\n",
       "\n",
       "[742 rows x 3 columns]"
      ]
     },
     "execution_count": 5,
     "metadata": {},
     "output_type": "execute_result"
    }
   ],
   "source": [
    "df1 = df['Location'].str.split(', ', expand=True)\n",
    "\n",
    "df1.columns = ['City', 'State','unknown']\n",
    "\n",
    "df1.sort_values(by=['State'])"
   ]
  },
  {
   "cell_type": "markdown",
   "id": "b9bf571c",
   "metadata": {},
   "source": [
    "By cleaning I remove the words los angeles is in state and replaced by CA. Santa Fe springs was changed to Los angeles.\n",
    "\n",
    "The city Santa Fe Springs was replaced by 'Los Angeles' because it is the most common\n",
    "\n",
    "I droped the column 'unkown'"
   ]
  },
  {
   "cell_type": "code",
   "execution_count": 6,
   "id": "03c0a799",
   "metadata": {},
   "outputs": [
    {
     "name": "stdout",
     "output_type": "stream",
     "text": [
      "37\n"
     ]
    }
   ],
   "source": [
    "df1.loc[145,'City'] = 'Los Angeles'\n",
    "df1.loc[145,'State'] = df1.loc[7,'State']\n",
    "df1.drop('unknown', axis=1, inplace=True)\n",
    "print(df1['State'].nunique())"
   ]
  },
  {
   "cell_type": "code",
   "execution_count": 7,
   "id": "203b05cf",
   "metadata": {},
   "outputs": [
    {
     "name": "stdout",
     "output_type": "stream",
     "text": [
      "       City\n",
      "State      \n",
      "CA      152\n",
      "MA      103\n",
      "NY       72\n",
      "VA       41\n",
      "IL       40\n",
      "MD       35\n",
      "PA       33\n",
      "TX       28\n",
      "WA       21\n",
      "NC       21\n"
     ]
    },
    {
     "data": {
      "text/plain": [
       "<AxesSubplot:xlabel='State', ylabel='City'>"
      ]
     },
     "execution_count": 7,
     "metadata": {},
     "output_type": "execute_result"
    },
    {
     "data": {
      "image/png": "[encoded data removed]",
      "text/plain": [
       "<Figure size 432x288 with 1 Axes>"
      ]
     },
     "metadata": {
      "needs_background": "light"
     },
     "output_type": "display_data"
    }
   ],
   "source": [
    "numjobs=df1.groupby(['State']).count().sort_values(by='City', ascending=False)\n",
    "numjobs10 = numjobs.head(10)\n",
    "print(numjobs10)\n",
    "numjobs10.reset_index(inplace=True)\n",
    "sns.barplot(data=numjobs10,x='State',y='City')\n"
   ]
  },
  {
   "cell_type": "markdown",
   "id": "d6dd78ac",
   "metadata": {},
   "source": [
    "## 2 Average Minimal and Maximal Salaries in Different States\n",
    "\n",
    "- Average Minimal and Average Maximal salaries in the United States are \\\\$ 74.75 and \\\\$ 128.21 \n",
    "- California has the Average Maximal Salary\n",
    "- South Carolina has the Average Minimal Salary\n"
   ]
  },
  {
   "cell_type": "code",
   "execution_count": 8,
   "id": "900a80fe",
   "metadata": {},
   "outputs": [
    {
     "data": {
      "text/html": [
       "<div>\n",
       "<style scoped>\n",
       "    .dataframe tbody tr th:only-of-type {\n",
       "        vertical-align: middle;\n",
       "    }\n",
       "\n",
       "    .dataframe tbody tr th {\n",
       "        vertical-align: top;\n",
       "    }\n",
       "\n",
       "    .dataframe thead th {\n",
       "        text-align: right;\n",
       "    }\n",
       "</style>\n",
       "<table border=\"1\" class=\"dataframe\">\n",
       "  <thead>\n",
       "    <tr style=\"text-align: right;\">\n",
       "      <th></th>\n",
       "      <th>Lower Salary</th>\n",
       "      <th>Upper Salary</th>\n",
       "    </tr>\n",
       "  </thead>\n",
       "  <tbody>\n",
       "    <tr>\n",
       "      <th>count</th>\n",
       "      <td>742.000000</td>\n",
       "      <td>742.000000</td>\n",
       "    </tr>\n",
       "    <tr>\n",
       "      <th>mean</th>\n",
       "      <td>74.754717</td>\n",
       "      <td>128.214286</td>\n",
       "    </tr>\n",
       "    <tr>\n",
       "      <th>std</th>\n",
       "      <td>30.945892</td>\n",
       "      <td>45.128650</td>\n",
       "    </tr>\n",
       "    <tr>\n",
       "      <th>min</th>\n",
       "      <td>15.000000</td>\n",
       "      <td>16.000000</td>\n",
       "    </tr>\n",
       "    <tr>\n",
       "      <th>25%</th>\n",
       "      <td>52.000000</td>\n",
       "      <td>96.000000</td>\n",
       "    </tr>\n",
       "    <tr>\n",
       "      <th>50%</th>\n",
       "      <td>69.500000</td>\n",
       "      <td>124.000000</td>\n",
       "    </tr>\n",
       "    <tr>\n",
       "      <th>75%</th>\n",
       "      <td>91.000000</td>\n",
       "      <td>155.000000</td>\n",
       "    </tr>\n",
       "    <tr>\n",
       "      <th>max</th>\n",
       "      <td>202.000000</td>\n",
       "      <td>306.000000</td>\n",
       "    </tr>\n",
       "  </tbody>\n",
       "</table>\n",
       "</div>"
      ],
      "text/plain": [
       "       Lower Salary  Upper Salary\n",
       "count    742.000000    742.000000\n",
       "mean      74.754717    128.214286\n",
       "std       30.945892     45.128650\n",
       "min       15.000000     16.000000\n",
       "25%       52.000000     96.000000\n",
       "50%       69.500000    124.000000\n",
       "75%       91.000000    155.000000\n",
       "max      202.000000    306.000000"
      ]
     },
     "execution_count": 8,
     "metadata": {},
     "output_type": "execute_result"
    }
   ],
   "source": [
    "df2 = pd.merge(df,df1, left_index=True, right_index=True)\n",
    "df2.iloc[:,16:18].describe()"
   ]
  },
  {
   "cell_type": "code",
   "execution_count": 9,
   "id": "347cd528",
   "metadata": {},
   "outputs": [
    {
     "name": "stdout",
     "output_type": "stream",
     "text": [
      "       Lower Salary  Upper Salary\n",
      "State                            \n",
      "CA        92.427632    154.598684\n",
      "DC        88.636364    131.727273\n",
      "IL        88.350000    144.975000\n",
      "MA        78.689320    136.300971\n",
      "MI        77.000000    123.500000\n",
      "NJ        76.823529    132.294118\n",
      "RI        74.000000    126.000000\n",
      "NY        72.125000    125.180556\n",
      "WA        71.047619    115.333333\n",
      "VA        70.024390    121.219512\n",
      "NC        69.047619    127.857143\n",
      "UT        68.700000    119.600000\n",
      "TX        68.357143    117.000000\n",
      "MD        68.314286    126.400000\n",
      "OR        68.250000    116.000000\n",
      "PA        67.090909    120.636364\n",
      "KY        66.333333    127.666667\n",
      "AZ        65.777778    105.555556\n",
      "CO        64.272727    108.090909\n",
      "IN        64.000000    116.600000\n",
      "TN        63.153846    115.384615\n",
      "OH        62.857143    112.285714\n",
      "KS        61.000000    113.000000\n",
      "FL        60.375000     94.875000\n",
      "MN        60.000000    111.000000\n",
      "MO        59.666667    109.777778\n",
      "CT        57.600000     84.600000\n",
      "IA        56.400000    101.400000\n",
      "GA        55.666667    105.666667\n",
      "NM        55.000000     93.666667\n",
      "WI        54.400000     92.200000\n",
      "DE        43.000000     70.000000\n",
      "AL        40.875000     75.000000\n",
      "LA        40.250000     75.000000\n",
      "ID        39.500000     73.000000\n",
      "NE        39.250000     69.250000\n",
      "SC        39.000000     82.000000\n"
     ]
    },
    {
     "name": "stderr",
     "output_type": "stream",
     "text": [
      "/var/folders/hv/qfj_qdgn4gs6pb2sb1twprqc0000gn/T/ipykernel_35225/1762497646.py:1: FutureWarning: Indexing with multiple keys (implicitly converted to a tuple of keys) will be deprecated, use a list instead.\n",
      "  a=df2.groupby(\"State\")[\"Lower Salary\",\"Upper Salary\"].mean().reset_index().sort_values(by= 'Lower Salary', ascending=False)\n"
     ]
    }
   ],
   "source": [
    "a=df2.groupby(\"State\")[\"Lower Salary\",\"Upper Salary\"].mean().reset_index().sort_values(by= 'Lower Salary', ascending=False)\n",
    "a = a.set_index('State')\n",
    "print(a)"
   ]
  },
  {
   "cell_type": "code",
   "execution_count": 10,
   "id": "c3f8c8c3",
   "metadata": {},
   "outputs": [
    {
     "data": {
      "image/png": "[encoded data removed]",
      "text/plain": [
       "<Figure size 432x288 with 1 Axes>"
      ]
     },
     "metadata": {
      "needs_background": "light"
     },
     "output_type": "display_data"
    }
   ],
   "source": [
    "\n",
    "fig, ax = plt.subplots(1,1)\n",
    "a.plot(kind='bar', ax=ax)\n",
    "ax.legend()\n",
    "plt.show()"
   ]
  },
  {
   "cell_type": "code",
   "execution_count": 11,
   "id": "d12e9f4e",
   "metadata": {},
   "outputs": [
    {
     "data": {
      "image/png": "[encoded data removed]",
      "text/plain": [
       "<Figure size 432x288 with 1 Axes>"
      ]
     },
     "metadata": {
      "needs_background": "light"
     },
     "output_type": "display_data"
    }
   ],
   "source": [
    "a= a.head(10)\n",
    "fig, ax = plt.subplots(1,1)\n",
    "a.plot(kind='bar', ax=ax)\n",
    "ax.legend()\n",
    "plt.show()"
   ]
  },
  {
   "cell_type": "markdown",
   "id": "b7513501",
   "metadata": {},
   "source": [
    "## 3 Average Salary in Different States\n",
    "\n",
    "- The highest Average Salary is California\n",
    "- The lowest Average Salary is Nebraska\n"
   ]
  },
  {
   "cell_type": "code",
   "execution_count": 12,
   "id": "7d882c27",
   "metadata": {},
   "outputs": [
    {
     "name": "stdout",
     "output_type": "stream",
     "text": [
      "  State  Avg Salary(K)\n",
      "0    CA     123.513158\n",
      "1    IL     116.662500\n",
      "2    DC     110.181818\n",
      "3    MA     107.495146\n",
      "4    NJ     104.558824\n"
     ]
    },
    {
     "data": {
      "text/plain": [
       "<AxesSubplot:xlabel='State', ylabel='Avg Salary(K)'>"
      ]
     },
     "execution_count": 12,
     "metadata": {},
     "output_type": "execute_result"
    },
    {
     "data": {
      "image/png": "[encoded data removed]",
      "text/plain": [
       "<Figure size 432x288 with 1 Axes>"
      ]
     },
     "metadata": {
      "needs_background": "light"
     },
     "output_type": "display_data"
    }
   ],
   "source": [
    "asds=df2.groupby(['State'])['Avg Salary(K)'].mean().sort_values(ascending=False)\n",
    "asds1= asds.to_frame()\n",
    "asds1.reset_index(inplace=True)\n",
    "asds10 = asds1.head()\n",
    "print(asds10)\n",
    "\n",
    "sns.barplot(data=asds10,x='State',y='Avg Salary(K)')\n"
   ]
  },
  {
   "cell_type": "markdown",
   "id": "20a2f2c3",
   "metadata": {},
   "source": [
    "## 4. Top 5 Industries with Maximum Number of Data Science Related Job Postings\n",
    "\n",
    "- Biotech & Pharmaceuticals has the maximum number of data science related job postings\n"
   ]
  },
  {
   "cell_type": "code",
   "execution_count": 13,
   "id": "0f884b57",
   "metadata": {},
   "outputs": [],
   "source": [
    "#print(df2['Industry'].nunique())\n",
    "#print(df2['Industry'].unique())"
   ]
  },
  {
   "cell_type": "code",
   "execution_count": 14,
   "id": "fe0ec419",
   "metadata": {},
   "outputs": [
    {
     "name": "stdout",
     "output_type": "stream",
     "text": [
      " Percentage of jobs in Biotech & Pharmaceuticals  :  15.09%\n",
      " Percentage of jobs in Insurance Carriers  :  8.49%\n",
      " Percentage of jobs in Computer Hardware & Software  :  7.95%\n",
      " Percentage of jobs in IT Services  :  6.74%\n",
      " Percentage of jobs in Health Care Services & Hospitals  :  6.60%\n",
      " Percentage of jobs in Enterprise Software & Network Solutions  :  5.66%\n",
      " Percentage of jobs in Internet  :  3.91%\n",
      " Percentage of jobs in Consulting  :  3.91%\n",
      " Percentage of jobs in Advertising & Marketing  :  3.37%\n",
      " Percentage of jobs in Aerospace & Defense  :  3.37%\n"
     ]
    }
   ],
   "source": [
    "for (i,j) in zip(df2[\"Industry\"].value_counts().sort_values(ascending=False)[0:10],range(0,10)):\n",
    "  print(\" Percentage of jobs in {}  :  {:.2f}%\".format(df[\"Industry\"].\\\n",
    "value_counts().sort_values(ascending=False).index[j],(i/742)*100 ))"
   ]
  },
  {
   "cell_type": "markdown",
   "id": "c40bee1d",
   "metadata": {},
   "source": [
    "## 5. Companies with Maximum Number of Job Openings\n",
    "\n",
    "- MassMutual, Takeda Pharmaceuticals and Reynolds American are the companies with the maximum number of job openings"
   ]
  },
  {
   "cell_type": "code",
   "execution_count": 15,
   "id": "d0a56487",
   "metadata": {},
   "outputs": [
    {
     "data": {
      "text/plain": [
       "343"
      ]
     },
     "execution_count": 15,
     "metadata": {},
     "output_type": "execute_result"
    }
   ],
   "source": [
    "df2['company_txt'].nunique()"
   ]
  },
  {
   "cell_type": "code",
   "execution_count": 16,
   "id": "d8abf1b7",
   "metadata": {},
   "outputs": [],
   "source": [
    "df2= pd.pivot_table(df2, index = ['company_txt'], values = 'Avg Salary(K)',aggfunc = 'count').sort_values('Avg Salary(K)',ascending=False)"
   ]
  },
  {
   "cell_type": "code",
   "execution_count": 17,
   "id": "6f108edd",
   "metadata": {},
   "outputs": [
    {
     "name": "stdout",
     "output_type": "stream",
     "text": [
      "                                Avg Salary(K)\n",
      "company_txt                                  \n",
      "MassMutual                                 14\n",
      "Takeda Pharmaceuticals                     14\n",
      "Reynolds American                          14\n",
      "Software Engineering Institute             11\n",
      "PNNL                                       10\n",
      "Liberty Mutual Insurance                   10\n",
      "AstraZeneca                                 9\n",
      "MITRE                                       8\n",
      "Numeric, LLC                                7\n",
      "Novartis                                    7\n",
      "Index(['Avg Salary(K)'], dtype='object')\n"
     ]
    }
   ],
   "source": [
    "print(df2[:10])\n",
    "print(df2.columns)"
   ]
  },
  {
   "cell_type": "code",
   "execution_count": 18,
   "id": "c5ff956a",
   "metadata": {},
   "outputs": [
    {
     "data": {
      "image/png": "[encoded data removed]",
      "text/plain": [
       "<Figure size 432x288 with 1 Axes>"
      ]
     },
     "metadata": {
      "needs_background": "light"
     },
     "output_type": "display_data"
    }
   ],
   "source": [
    "sns.barplot(x=df2.index[:10],y=df2['Avg Salary(K)'][:10])\n",
    "plt.xticks(rotation=90)\n",
    "plt.show()"
   ]
  },
  {
   "cell_type": "code",
   "execution_count": null,
   "id": "a29fd9d7",
   "metadata": {},
   "outputs": [],
   "source": []
  }
 ],
 "metadata": {
  "kernelspec": {
   "display_name": "Python 3 (ipykernel)",
   "language": "python",
   "name": "python3"
  },
  "language_info": {
   "codemirror_mode": {
    "name": "ipython",
    "version": 3
   },
   "file_extension": ".py",
   "mimetype": "text/x-python",
   "name": "python",
   "nbconvert_exporter": "python",
   "pygments_lexer": "ipython3",
   "version": "3.9.12"
  }
 },
 "nbformat": 4,
 "nbformat_minor": 5
}
